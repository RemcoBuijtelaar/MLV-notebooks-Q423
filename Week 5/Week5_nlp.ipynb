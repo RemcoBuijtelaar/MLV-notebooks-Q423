{
  "cells": [
    {
      "cell_type": "markdown",
      "metadata": {
        "id": "kPYq33IkJtMo"
      },
      "source": [
        "# Natural language processing\n",
        "\n",
        "This week we are going to learn how to work with text data. In previous weeks, we already used techniques like dummy coding in order to work with categorical data. However, there are many different processing techniques that are more suitable for processing text data. After looking at these processing techniques we will train models using this data and we will visualize text data.\n",
        "\n",
        "This week we will use the [Coronavirus tweet dataset](https://www.kaggle.com/datasets/datatattle/covid-19-nlp-text-classification). This dataset contains Twitter (X) tweets about the coronavirus and the accompanying sentiment. Let's load the data first."
      ]
    },
    {
      "cell_type": "code",
      "execution_count": 77,
      "metadata": {
        "colab": {
          "base_uri": "https://localhost:8080/",
          "height": 303
        },
        "id": "3TCBP20iJIGb",
        "outputId": "deb8bd7a-28bc-419e-a57d-6b7f649be448"
      },
      "outputs": [
        {
          "ename": "UnicodeDecodeError",
          "evalue": "ignored",
          "output_type": "error",
          "traceback": [
            "\u001b[0;31m---------------------------------------------------------------------------\u001b[0m",
            "\u001b[0;31mUnicodeDecodeError\u001b[0m                        Traceback (most recent call last)",
            "\u001b[0;32m<ipython-input-77-f5b19793e794>\u001b[0m in \u001b[0;36m<cell line: 4>\u001b[0;34m()\u001b[0m\n\u001b[1;32m      2\u001b[0m \u001b[0;34m\u001b[0m\u001b[0m\n\u001b[1;32m      3\u001b[0m \u001b[0;31m# Load the tweet data here\u001b[0m\u001b[0;34m\u001b[0m\u001b[0;34m\u001b[0m\u001b[0m\n\u001b[0;32m----> 4\u001b[0;31m \u001b[0mtweets\u001b[0m \u001b[0;34m=\u001b[0m \u001b[0mpd\u001b[0m\u001b[0;34m.\u001b[0m\u001b[0mread_csv\u001b[0m\u001b[0;34m(\u001b[0m\u001b[0;34m\"/content/Corona_NLP_train.csv\"\u001b[0m\u001b[0;34m)\u001b[0m\u001b[0;34m\u001b[0m\u001b[0;34m\u001b[0m\u001b[0m\n\u001b[0m\u001b[1;32m      5\u001b[0m \u001b[0;34m\u001b[0m\u001b[0m\n\u001b[1;32m      6\u001b[0m \u001b[0mtweets\u001b[0m\u001b[0;34m.\u001b[0m\u001b[0mhead\u001b[0m\u001b[0;34m(\u001b[0m\u001b[0;34m)\u001b[0m\u001b[0;34m\u001b[0m\u001b[0;34m\u001b[0m\u001b[0m\n",
            "\u001b[0;32m/usr/local/lib/python3.10/dist-packages/pandas/util/_decorators.py\u001b[0m in \u001b[0;36mwrapper\u001b[0;34m(*args, **kwargs)\u001b[0m\n\u001b[1;32m    209\u001b[0m                 \u001b[0;32melse\u001b[0m\u001b[0;34m:\u001b[0m\u001b[0;34m\u001b[0m\u001b[0;34m\u001b[0m\u001b[0m\n\u001b[1;32m    210\u001b[0m                     \u001b[0mkwargs\u001b[0m\u001b[0;34m[\u001b[0m\u001b[0mnew_arg_name\u001b[0m\u001b[0;34m]\u001b[0m \u001b[0;34m=\u001b[0m \u001b[0mnew_arg_value\u001b[0m\u001b[0;34m\u001b[0m\u001b[0;34m\u001b[0m\u001b[0m\n\u001b[0;32m--> 211\u001b[0;31m             \u001b[0;32mreturn\u001b[0m \u001b[0mfunc\u001b[0m\u001b[0;34m(\u001b[0m\u001b[0;34m*\u001b[0m\u001b[0margs\u001b[0m\u001b[0;34m,\u001b[0m \u001b[0;34m**\u001b[0m\u001b[0mkwargs\u001b[0m\u001b[0;34m)\u001b[0m\u001b[0;34m\u001b[0m\u001b[0;34m\u001b[0m\u001b[0m\n\u001b[0m\u001b[1;32m    212\u001b[0m \u001b[0;34m\u001b[0m\u001b[0m\n\u001b[1;32m    213\u001b[0m         \u001b[0;32mreturn\u001b[0m \u001b[0mcast\u001b[0m\u001b[0;34m(\u001b[0m\u001b[0mF\u001b[0m\u001b[0;34m,\u001b[0m \u001b[0mwrapper\u001b[0m\u001b[0;34m)\u001b[0m\u001b[0;34m\u001b[0m\u001b[0;34m\u001b[0m\u001b[0m\n",
            "\u001b[0;32m/usr/local/lib/python3.10/dist-packages/pandas/util/_decorators.py\u001b[0m in \u001b[0;36mwrapper\u001b[0;34m(*args, **kwargs)\u001b[0m\n\u001b[1;32m    329\u001b[0m                     \u001b[0mstacklevel\u001b[0m\u001b[0;34m=\u001b[0m\u001b[0mfind_stack_level\u001b[0m\u001b[0;34m(\u001b[0m\u001b[0;34m)\u001b[0m\u001b[0;34m,\u001b[0m\u001b[0;34m\u001b[0m\u001b[0;34m\u001b[0m\u001b[0m\n\u001b[1;32m    330\u001b[0m                 )\n\u001b[0;32m--> 331\u001b[0;31m             \u001b[0;32mreturn\u001b[0m \u001b[0mfunc\u001b[0m\u001b[0;34m(\u001b[0m\u001b[0;34m*\u001b[0m\u001b[0margs\u001b[0m\u001b[0;34m,\u001b[0m \u001b[0;34m**\u001b[0m\u001b[0mkwargs\u001b[0m\u001b[0;34m)\u001b[0m\u001b[0;34m\u001b[0m\u001b[0;34m\u001b[0m\u001b[0m\n\u001b[0m\u001b[1;32m    332\u001b[0m \u001b[0;34m\u001b[0m\u001b[0m\n\u001b[1;32m    333\u001b[0m         \u001b[0;31m# error: \"Callable[[VarArg(Any), KwArg(Any)], Any]\" has no\u001b[0m\u001b[0;34m\u001b[0m\u001b[0;34m\u001b[0m\u001b[0m\n",
            "\u001b[0;32m/usr/local/lib/python3.10/dist-packages/pandas/io/parsers/readers.py\u001b[0m in \u001b[0;36mread_csv\u001b[0;34m(filepath_or_buffer, sep, delimiter, header, names, index_col, usecols, squeeze, prefix, mangle_dupe_cols, dtype, engine, converters, true_values, false_values, skipinitialspace, skiprows, skipfooter, nrows, na_values, keep_default_na, na_filter, verbose, skip_blank_lines, parse_dates, infer_datetime_format, keep_date_col, date_parser, dayfirst, cache_dates, iterator, chunksize, compression, thousands, decimal, lineterminator, quotechar, quoting, doublequote, escapechar, comment, encoding, encoding_errors, dialect, error_bad_lines, warn_bad_lines, on_bad_lines, delim_whitespace, low_memory, memory_map, float_precision, storage_options)\u001b[0m\n\u001b[1;32m    948\u001b[0m     \u001b[0mkwds\u001b[0m\u001b[0;34m.\u001b[0m\u001b[0mupdate\u001b[0m\u001b[0;34m(\u001b[0m\u001b[0mkwds_defaults\u001b[0m\u001b[0;34m)\u001b[0m\u001b[0;34m\u001b[0m\u001b[0;34m\u001b[0m\u001b[0m\n\u001b[1;32m    949\u001b[0m \u001b[0;34m\u001b[0m\u001b[0m\n\u001b[0;32m--> 950\u001b[0;31m     \u001b[0;32mreturn\u001b[0m \u001b[0m_read\u001b[0m\u001b[0;34m(\u001b[0m\u001b[0mfilepath_or_buffer\u001b[0m\u001b[0;34m,\u001b[0m \u001b[0mkwds\u001b[0m\u001b[0;34m)\u001b[0m\u001b[0;34m\u001b[0m\u001b[0;34m\u001b[0m\u001b[0m\n\u001b[0m\u001b[1;32m    951\u001b[0m \u001b[0;34m\u001b[0m\u001b[0m\n\u001b[1;32m    952\u001b[0m \u001b[0;34m\u001b[0m\u001b[0m\n",
            "\u001b[0;32m/usr/local/lib/python3.10/dist-packages/pandas/io/parsers/readers.py\u001b[0m in \u001b[0;36m_read\u001b[0;34m(filepath_or_buffer, kwds)\u001b[0m\n\u001b[1;32m    609\u001b[0m \u001b[0;34m\u001b[0m\u001b[0m\n\u001b[1;32m    610\u001b[0m     \u001b[0;32mwith\u001b[0m \u001b[0mparser\u001b[0m\u001b[0;34m:\u001b[0m\u001b[0;34m\u001b[0m\u001b[0;34m\u001b[0m\u001b[0m\n\u001b[0;32m--> 611\u001b[0;31m         \u001b[0;32mreturn\u001b[0m \u001b[0mparser\u001b[0m\u001b[0;34m.\u001b[0m\u001b[0mread\u001b[0m\u001b[0;34m(\u001b[0m\u001b[0mnrows\u001b[0m\u001b[0;34m)\u001b[0m\u001b[0;34m\u001b[0m\u001b[0;34m\u001b[0m\u001b[0m\n\u001b[0m\u001b[1;32m    612\u001b[0m \u001b[0;34m\u001b[0m\u001b[0m\n\u001b[1;32m    613\u001b[0m \u001b[0;34m\u001b[0m\u001b[0m\n",
            "\u001b[0;32m/usr/local/lib/python3.10/dist-packages/pandas/io/parsers/readers.py\u001b[0m in \u001b[0;36mread\u001b[0;34m(self, nrows)\u001b[0m\n\u001b[1;32m   1776\u001b[0m                     \u001b[0mcolumns\u001b[0m\u001b[0;34m,\u001b[0m\u001b[0;34m\u001b[0m\u001b[0;34m\u001b[0m\u001b[0m\n\u001b[1;32m   1777\u001b[0m                     \u001b[0mcol_dict\u001b[0m\u001b[0;34m,\u001b[0m\u001b[0;34m\u001b[0m\u001b[0;34m\u001b[0m\u001b[0m\n\u001b[0;32m-> 1778\u001b[0;31m                 \u001b[0;34m)\u001b[0m \u001b[0;34m=\u001b[0m \u001b[0mself\u001b[0m\u001b[0;34m.\u001b[0m\u001b[0m_engine\u001b[0m\u001b[0;34m.\u001b[0m\u001b[0mread\u001b[0m\u001b[0;34m(\u001b[0m  \u001b[0;31m# type: ignore[attr-defined]\u001b[0m\u001b[0;34m\u001b[0m\u001b[0;34m\u001b[0m\u001b[0m\n\u001b[0m\u001b[1;32m   1779\u001b[0m                     \u001b[0mnrows\u001b[0m\u001b[0;34m\u001b[0m\u001b[0;34m\u001b[0m\u001b[0m\n\u001b[1;32m   1780\u001b[0m                 )\n",
            "\u001b[0;32m/usr/local/lib/python3.10/dist-packages/pandas/io/parsers/c_parser_wrapper.py\u001b[0m in \u001b[0;36mread\u001b[0;34m(self, nrows)\u001b[0m\n\u001b[1;32m    228\u001b[0m         \u001b[0;32mtry\u001b[0m\u001b[0;34m:\u001b[0m\u001b[0;34m\u001b[0m\u001b[0;34m\u001b[0m\u001b[0m\n\u001b[1;32m    229\u001b[0m             \u001b[0;32mif\u001b[0m \u001b[0mself\u001b[0m\u001b[0;34m.\u001b[0m\u001b[0mlow_memory\u001b[0m\u001b[0;34m:\u001b[0m\u001b[0;34m\u001b[0m\u001b[0;34m\u001b[0m\u001b[0m\n\u001b[0;32m--> 230\u001b[0;31m                 \u001b[0mchunks\u001b[0m \u001b[0;34m=\u001b[0m \u001b[0mself\u001b[0m\u001b[0;34m.\u001b[0m\u001b[0m_reader\u001b[0m\u001b[0;34m.\u001b[0m\u001b[0mread_low_memory\u001b[0m\u001b[0;34m(\u001b[0m\u001b[0mnrows\u001b[0m\u001b[0;34m)\u001b[0m\u001b[0;34m\u001b[0m\u001b[0;34m\u001b[0m\u001b[0m\n\u001b[0m\u001b[1;32m    231\u001b[0m                 \u001b[0;31m# destructive to chunks\u001b[0m\u001b[0;34m\u001b[0m\u001b[0;34m\u001b[0m\u001b[0m\n\u001b[1;32m    232\u001b[0m                 \u001b[0mdata\u001b[0m \u001b[0;34m=\u001b[0m \u001b[0m_concatenate_chunks\u001b[0m\u001b[0;34m(\u001b[0m\u001b[0mchunks\u001b[0m\u001b[0;34m)\u001b[0m\u001b[0;34m\u001b[0m\u001b[0;34m\u001b[0m\u001b[0m\n",
            "\u001b[0;32m/usr/local/lib/python3.10/dist-packages/pandas/_libs/parsers.pyx\u001b[0m in \u001b[0;36mpandas._libs.parsers.TextReader.read_low_memory\u001b[0;34m()\u001b[0m\n",
            "\u001b[0;32m/usr/local/lib/python3.10/dist-packages/pandas/_libs/parsers.pyx\u001b[0m in \u001b[0;36mpandas._libs.parsers.TextReader._read_rows\u001b[0;34m()\u001b[0m\n",
            "\u001b[0;32m/usr/local/lib/python3.10/dist-packages/pandas/_libs/parsers.pyx\u001b[0m in \u001b[0;36mpandas._libs.parsers.TextReader._tokenize_rows\u001b[0;34m()\u001b[0m\n",
            "\u001b[0;32m/usr/local/lib/python3.10/dist-packages/pandas/_libs/parsers.pyx\u001b[0m in \u001b[0;36mpandas._libs.parsers.raise_parser_error\u001b[0;34m()\u001b[0m\n",
            "\u001b[0;31mUnicodeDecodeError\u001b[0m: 'utf-8' codec can't decode byte 0xc2 in position 7485: invalid continuation byte"
          ]
        }
      ],
      "source": [
        "import pandas as pd\n",
        "\n",
        "# Load the tweet data here\n",
        "tweets = pd.read_csv(\"...\")\n",
        "\n",
        "tweets.head()"
      ]
    },
    {
      "cell_type": "markdown",
      "metadata": {
        "id": "ui5W5XPIPeW4"
      },
      "source": [
        "The error message you're encountering, typically occurs when you're trying to read a CSV file that contains text using the UTF-8 encoding, but the file contains characters that are not valid UTF-8 sequences. You may need to experiment with different encoding settings to find the one that works for your data. By changing the encoding type to `latin-1` we can load the data correctly."
      ]
    },
    {
      "cell_type": "code",
      "execution_count": 2,
      "metadata": {
        "colab": {
          "base_uri": "https://localhost:8080/",
          "height": 293
        },
        "id": "8W6lZWPZO_w4",
        "outputId": "096f63a4-0632-4208-f42f-ac8e9f86cdc9"
      },
      "outputs": [
        {
          "data": {
            "text/html": [
              "\n",
              "  <div id=\"df-8b5b1c3b-2a52-4fe2-9786-010e2f454109\" class=\"colab-df-container\">\n",
              "    <div>\n",
              "<style scoped>\n",
              "    .dataframe tbody tr th:only-of-type {\n",
              "        vertical-align: middle;\n",
              "    }\n",
              "\n",
              "    .dataframe tbody tr th {\n",
              "        vertical-align: top;\n",
              "    }\n",
              "\n",
              "    .dataframe thead th {\n",
              "        text-align: right;\n",
              "    }\n",
              "</style>\n",
              "<table border=\"1\" class=\"dataframe\">\n",
              "  <thead>\n",
              "    <tr style=\"text-align: right;\">\n",
              "      <th></th>\n",
              "      <th>UserName</th>\n",
              "      <th>ScreenName</th>\n",
              "      <th>Location</th>\n",
              "      <th>TweetAt</th>\n",
              "      <th>OriginalTweet</th>\n",
              "      <th>Sentiment</th>\n",
              "    </tr>\n",
              "  </thead>\n",
              "  <tbody>\n",
              "    <tr>\n",
              "      <th>0</th>\n",
              "      <td>3799</td>\n",
              "      <td>48751</td>\n",
              "      <td>London</td>\n",
              "      <td>16-03-2020</td>\n",
              "      <td>@MeNyrbie @Phil_Gahan @Chrisitv https://t.co/i...</td>\n",
              "      <td>Neutral</td>\n",
              "    </tr>\n",
              "    <tr>\n",
              "      <th>1</th>\n",
              "      <td>3800</td>\n",
              "      <td>48752</td>\n",
              "      <td>UK</td>\n",
              "      <td>16-03-2020</td>\n",
              "      <td>advice Talk to your neighbours family to excha...</td>\n",
              "      <td>Positive</td>\n",
              "    </tr>\n",
              "    <tr>\n",
              "      <th>2</th>\n",
              "      <td>3801</td>\n",
              "      <td>48753</td>\n",
              "      <td>Vagabonds</td>\n",
              "      <td>16-03-2020</td>\n",
              "      <td>Coronavirus Australia: Woolworths to give elde...</td>\n",
              "      <td>Positive</td>\n",
              "    </tr>\n",
              "    <tr>\n",
              "      <th>3</th>\n",
              "      <td>3802</td>\n",
              "      <td>48754</td>\n",
              "      <td>NaN</td>\n",
              "      <td>16-03-2020</td>\n",
              "      <td>My food stock is not the only one which is emp...</td>\n",
              "      <td>Positive</td>\n",
              "    </tr>\n",
              "    <tr>\n",
              "      <th>4</th>\n",
              "      <td>3803</td>\n",
              "      <td>48755</td>\n",
              "      <td>NaN</td>\n",
              "      <td>16-03-2020</td>\n",
              "      <td>Me, ready to go at supermarket during the #COV...</td>\n",
              "      <td>Extremely Negative</td>\n",
              "    </tr>\n",
              "  </tbody>\n",
              "</table>\n",
              "</div>\n",
              "    <div class=\"colab-df-buttons\">\n",
              "\n",
              "  <div class=\"colab-df-container\">\n",
              "    <button class=\"colab-df-convert\" onclick=\"convertToInteractive('df-8b5b1c3b-2a52-4fe2-9786-010e2f454109')\"\n",
              "            title=\"Convert this dataframe to an interactive table.\"\n",
              "            style=\"display:none;\">\n",
              "\n",
              "  <svg xmlns=\"http://www.w3.org/2000/svg\" height=\"24px\" viewBox=\"0 -960 960 960\">\n",
              "    <path d=\"M120-120v-720h720v720H120Zm60-500h600v-160H180v160Zm220 220h160v-160H400v160Zm0 220h160v-160H400v160ZM180-400h160v-160H180v160Zm440 0h160v-160H620v160ZM180-180h160v-160H180v160Zm440 0h160v-160H620v160Z\"/>\n",
              "  </svg>\n",
              "    </button>\n",
              "\n",
              "  <style>\n",
              "    .colab-df-container {\n",
              "      display:flex;\n",
              "      gap: 12px;\n",
              "    }\n",
              "\n",
              "    .colab-df-convert {\n",
              "      background-color: #E8F0FE;\n",
              "      border: none;\n",
              "      border-radius: 50%;\n",
              "      cursor: pointer;\n",
              "      display: none;\n",
              "      fill: #1967D2;\n",
              "      height: 32px;\n",
              "      padding: 0 0 0 0;\n",
              "      width: 32px;\n",
              "    }\n",
              "\n",
              "    .colab-df-convert:hover {\n",
              "      background-color: #E2EBFA;\n",
              "      box-shadow: 0px 1px 2px rgba(60, 64, 67, 0.3), 0px 1px 3px 1px rgba(60, 64, 67, 0.15);\n",
              "      fill: #174EA6;\n",
              "    }\n",
              "\n",
              "    .colab-df-buttons div {\n",
              "      margin-bottom: 4px;\n",
              "    }\n",
              "\n",
              "    [theme=dark] .colab-df-convert {\n",
              "      background-color: #3B4455;\n",
              "      fill: #D2E3FC;\n",
              "    }\n",
              "\n",
              "    [theme=dark] .colab-df-convert:hover {\n",
              "      background-color: #434B5C;\n",
              "      box-shadow: 0px 1px 3px 1px rgba(0, 0, 0, 0.15);\n",
              "      filter: drop-shadow(0px 1px 2px rgba(0, 0, 0, 0.3));\n",
              "      fill: #FFFFFF;\n",
              "    }\n",
              "  </style>\n",
              "\n",
              "    <script>\n",
              "      const buttonEl =\n",
              "        document.querySelector('#df-8b5b1c3b-2a52-4fe2-9786-010e2f454109 button.colab-df-convert');\n",
              "      buttonEl.style.display =\n",
              "        google.colab.kernel.accessAllowed ? 'block' : 'none';\n",
              "\n",
              "      async function convertToInteractive(key) {\n",
              "        const element = document.querySelector('#df-8b5b1c3b-2a52-4fe2-9786-010e2f454109');\n",
              "        const dataTable =\n",
              "          await google.colab.kernel.invokeFunction('convertToInteractive',\n",
              "                                                    [key], {});\n",
              "        if (!dataTable) return;\n",
              "\n",
              "        const docLinkHtml = 'Like what you see? Visit the ' +\n",
              "          '<a target=\"_blank\" href=https://colab.research.google.com/notebooks/data_table.ipynb>data table notebook</a>'\n",
              "          + ' to learn more about interactive tables.';\n",
              "        element.innerHTML = '';\n",
              "        dataTable['output_type'] = 'display_data';\n",
              "        await google.colab.output.renderOutput(dataTable, element);\n",
              "        const docLink = document.createElement('div');\n",
              "        docLink.innerHTML = docLinkHtml;\n",
              "        element.appendChild(docLink);\n",
              "      }\n",
              "    </script>\n",
              "  </div>\n",
              "\n",
              "\n",
              "<div id=\"df-73347855-788e-40fe-97c0-7b69bd6436cf\">\n",
              "  <button class=\"colab-df-quickchart\" onclick=\"quickchart('df-73347855-788e-40fe-97c0-7b69bd6436cf')\"\n",
              "            title=\"Suggest charts\"\n",
              "            style=\"display:none;\">\n",
              "\n",
              "<svg xmlns=\"http://www.w3.org/2000/svg\" height=\"24px\"viewBox=\"0 0 24 24\"\n",
              "     width=\"24px\">\n",
              "    <g>\n",
              "        <path d=\"M19 3H5c-1.1 0-2 .9-2 2v14c0 1.1.9 2 2 2h14c1.1 0 2-.9 2-2V5c0-1.1-.9-2-2-2zM9 17H7v-7h2v7zm4 0h-2V7h2v10zm4 0h-2v-4h2v4z\"/>\n",
              "    </g>\n",
              "</svg>\n",
              "  </button>\n",
              "\n",
              "<style>\n",
              "  .colab-df-quickchart {\n",
              "      --bg-color: #E8F0FE;\n",
              "      --fill-color: #1967D2;\n",
              "      --hover-bg-color: #E2EBFA;\n",
              "      --hover-fill-color: #174EA6;\n",
              "      --disabled-fill-color: #AAA;\n",
              "      --disabled-bg-color: #DDD;\n",
              "  }\n",
              "\n",
              "  [theme=dark] .colab-df-quickchart {\n",
              "      --bg-color: #3B4455;\n",
              "      --fill-color: #D2E3FC;\n",
              "      --hover-bg-color: #434B5C;\n",
              "      --hover-fill-color: #FFFFFF;\n",
              "      --disabled-bg-color: #3B4455;\n",
              "      --disabled-fill-color: #666;\n",
              "  }\n",
              "\n",
              "  .colab-df-quickchart {\n",
              "    background-color: var(--bg-color);\n",
              "    border: none;\n",
              "    border-radius: 50%;\n",
              "    cursor: pointer;\n",
              "    display: none;\n",
              "    fill: var(--fill-color);\n",
              "    height: 32px;\n",
              "    padding: 0;\n",
              "    width: 32px;\n",
              "  }\n",
              "\n",
              "  .colab-df-quickchart:hover {\n",
              "    background-color: var(--hover-bg-color);\n",
              "    box-shadow: 0 1px 2px rgba(60, 64, 67, 0.3), 0 1px 3px 1px rgba(60, 64, 67, 0.15);\n",
              "    fill: var(--button-hover-fill-color);\n",
              "  }\n",
              "\n",
              "  .colab-df-quickchart-complete:disabled,\n",
              "  .colab-df-quickchart-complete:disabled:hover {\n",
              "    background-color: var(--disabled-bg-color);\n",
              "    fill: var(--disabled-fill-color);\n",
              "    box-shadow: none;\n",
              "  }\n",
              "\n",
              "  .colab-df-spinner {\n",
              "    border: 2px solid var(--fill-color);\n",
              "    border-color: transparent;\n",
              "    border-bottom-color: var(--fill-color);\n",
              "    animation:\n",
              "      spin 1s steps(1) infinite;\n",
              "  }\n",
              "\n",
              "  @keyframes spin {\n",
              "    0% {\n",
              "      border-color: transparent;\n",
              "      border-bottom-color: var(--fill-color);\n",
              "      border-left-color: var(--fill-color);\n",
              "    }\n",
              "    20% {\n",
              "      border-color: transparent;\n",
              "      border-left-color: var(--fill-color);\n",
              "      border-top-color: var(--fill-color);\n",
              "    }\n",
              "    30% {\n",
              "      border-color: transparent;\n",
              "      border-left-color: var(--fill-color);\n",
              "      border-top-color: var(--fill-color);\n",
              "      border-right-color: var(--fill-color);\n",
              "    }\n",
              "    40% {\n",
              "      border-color: transparent;\n",
              "      border-right-color: var(--fill-color);\n",
              "      border-top-color: var(--fill-color);\n",
              "    }\n",
              "    60% {\n",
              "      border-color: transparent;\n",
              "      border-right-color: var(--fill-color);\n",
              "    }\n",
              "    80% {\n",
              "      border-color: transparent;\n",
              "      border-right-color: var(--fill-color);\n",
              "      border-bottom-color: var(--fill-color);\n",
              "    }\n",
              "    90% {\n",
              "      border-color: transparent;\n",
              "      border-bottom-color: var(--fill-color);\n",
              "    }\n",
              "  }\n",
              "</style>\n",
              "\n",
              "  <script>\n",
              "    async function quickchart(key) {\n",
              "      const quickchartButtonEl =\n",
              "        document.querySelector('#' + key + ' button');\n",
              "      quickchartButtonEl.disabled = true;  // To prevent multiple clicks.\n",
              "      quickchartButtonEl.classList.add('colab-df-spinner');\n",
              "      try {\n",
              "        const charts = await google.colab.kernel.invokeFunction(\n",
              "            'suggestCharts', [key], {});\n",
              "      } catch (error) {\n",
              "        console.error('Error during call to suggestCharts:', error);\n",
              "      }\n",
              "      quickchartButtonEl.classList.remove('colab-df-spinner');\n",
              "      quickchartButtonEl.classList.add('colab-df-quickchart-complete');\n",
              "    }\n",
              "    (() => {\n",
              "      let quickchartButtonEl =\n",
              "        document.querySelector('#df-73347855-788e-40fe-97c0-7b69bd6436cf button');\n",
              "      quickchartButtonEl.style.display =\n",
              "        google.colab.kernel.accessAllowed ? 'block' : 'none';\n",
              "    })();\n",
              "  </script>\n",
              "</div>\n",
              "    </div>\n",
              "  </div>\n"
            ],
            "text/plain": [
              "   UserName  ScreenName   Location     TweetAt  \\\n",
              "0      3799       48751     London  16-03-2020   \n",
              "1      3800       48752         UK  16-03-2020   \n",
              "2      3801       48753  Vagabonds  16-03-2020   \n",
              "3      3802       48754        NaN  16-03-2020   \n",
              "4      3803       48755        NaN  16-03-2020   \n",
              "\n",
              "                                       OriginalTweet           Sentiment  \n",
              "0  @MeNyrbie @Phil_Gahan @Chrisitv https://t.co/i...             Neutral  \n",
              "1  advice Talk to your neighbours family to excha...            Positive  \n",
              "2  Coronavirus Australia: Woolworths to give elde...            Positive  \n",
              "3  My food stock is not the only one which is emp...            Positive  \n",
              "4  Me, ready to go at supermarket during the #COV...  Extremely Negative  "
            ]
          },
          "execution_count": 2,
          "metadata": {},
          "output_type": "execute_result"
        }
      ],
      "source": [
        "import pandas as pd\n",
        "\n",
        "# Load the tweet data here\n",
        "tweets = pd.read_csv(\"...\", encoding='latin-1')\n",
        "\n",
        "tweets.head()"
      ]
    },
    {
      "cell_type": "markdown",
      "metadata": {
        "id": "-0-L_sSCQq45"
      },
      "source": [
        "Because this week is about working with text data we can continue using the columns `OriginalTweet` and `Sentiment`. Remove the other columns from the DataFrame."
      ]
    },
    {
      "cell_type": "code",
      "execution_count": 3,
      "metadata": {
        "colab": {
          "base_uri": "https://localhost:8080/",
          "height": 206
        },
        "id": "iOHy6DQDOSLn",
        "outputId": "633be624-cdfe-4679-f25e-9b5e7d1a88dd"
      },
      "outputs": [
        {
          "data": {
            "text/html": [
              "\n",
              "  <div id=\"df-d6f1ebd0-0764-409f-947a-d2a2fc9be90f\" class=\"colab-df-container\">\n",
              "    <div>\n",
              "<style scoped>\n",
              "    .dataframe tbody tr th:only-of-type {\n",
              "        vertical-align: middle;\n",
              "    }\n",
              "\n",
              "    .dataframe tbody tr th {\n",
              "        vertical-align: top;\n",
              "    }\n",
              "\n",
              "    .dataframe thead th {\n",
              "        text-align: right;\n",
              "    }\n",
              "</style>\n",
              "<table border=\"1\" class=\"dataframe\">\n",
              "  <thead>\n",
              "    <tr style=\"text-align: right;\">\n",
              "      <th></th>\n",
              "      <th>OriginalTweet</th>\n",
              "      <th>Sentiment</th>\n",
              "    </tr>\n",
              "  </thead>\n",
              "  <tbody>\n",
              "    <tr>\n",
              "      <th>0</th>\n",
              "      <td>@MeNyrbie @Phil_Gahan @Chrisitv https://t.co/i...</td>\n",
              "      <td>Neutral</td>\n",
              "    </tr>\n",
              "    <tr>\n",
              "      <th>1</th>\n",
              "      <td>advice Talk to your neighbours family to excha...</td>\n",
              "      <td>Positive</td>\n",
              "    </tr>\n",
              "    <tr>\n",
              "      <th>2</th>\n",
              "      <td>Coronavirus Australia: Woolworths to give elde...</td>\n",
              "      <td>Positive</td>\n",
              "    </tr>\n",
              "    <tr>\n",
              "      <th>3</th>\n",
              "      <td>My food stock is not the only one which is emp...</td>\n",
              "      <td>Positive</td>\n",
              "    </tr>\n",
              "    <tr>\n",
              "      <th>4</th>\n",
              "      <td>Me, ready to go at supermarket during the #COV...</td>\n",
              "      <td>Extremely Negative</td>\n",
              "    </tr>\n",
              "  </tbody>\n",
              "</table>\n",
              "</div>\n",
              "    <div class=\"colab-df-buttons\">\n",
              "\n",
              "  <div class=\"colab-df-container\">\n",
              "    <button class=\"colab-df-convert\" onclick=\"convertToInteractive('df-d6f1ebd0-0764-409f-947a-d2a2fc9be90f')\"\n",
              "            title=\"Convert this dataframe to an interactive table.\"\n",
              "            style=\"display:none;\">\n",
              "\n",
              "  <svg xmlns=\"http://www.w3.org/2000/svg\" height=\"24px\" viewBox=\"0 -960 960 960\">\n",
              "    <path d=\"M120-120v-720h720v720H120Zm60-500h600v-160H180v160Zm220 220h160v-160H400v160Zm0 220h160v-160H400v160ZM180-400h160v-160H180v160Zm440 0h160v-160H620v160ZM180-180h160v-160H180v160Zm440 0h160v-160H620v160Z\"/>\n",
              "  </svg>\n",
              "    </button>\n",
              "\n",
              "  <style>\n",
              "    .colab-df-container {\n",
              "      display:flex;\n",
              "      gap: 12px;\n",
              "    }\n",
              "\n",
              "    .colab-df-convert {\n",
              "      background-color: #E8F0FE;\n",
              "      border: none;\n",
              "      border-radius: 50%;\n",
              "      cursor: pointer;\n",
              "      display: none;\n",
              "      fill: #1967D2;\n",
              "      height: 32px;\n",
              "      padding: 0 0 0 0;\n",
              "      width: 32px;\n",
              "    }\n",
              "\n",
              "    .colab-df-convert:hover {\n",
              "      background-color: #E2EBFA;\n",
              "      box-shadow: 0px 1px 2px rgba(60, 64, 67, 0.3), 0px 1px 3px 1px rgba(60, 64, 67, 0.15);\n",
              "      fill: #174EA6;\n",
              "    }\n",
              "\n",
              "    .colab-df-buttons div {\n",
              "      margin-bottom: 4px;\n",
              "    }\n",
              "\n",
              "    [theme=dark] .colab-df-convert {\n",
              "      background-color: #3B4455;\n",
              "      fill: #D2E3FC;\n",
              "    }\n",
              "\n",
              "    [theme=dark] .colab-df-convert:hover {\n",
              "      background-color: #434B5C;\n",
              "      box-shadow: 0px 1px 3px 1px rgba(0, 0, 0, 0.15);\n",
              "      filter: drop-shadow(0px 1px 2px rgba(0, 0, 0, 0.3));\n",
              "      fill: #FFFFFF;\n",
              "    }\n",
              "  </style>\n",
              "\n",
              "    <script>\n",
              "      const buttonEl =\n",
              "        document.querySelector('#df-d6f1ebd0-0764-409f-947a-d2a2fc9be90f button.colab-df-convert');\n",
              "      buttonEl.style.display =\n",
              "        google.colab.kernel.accessAllowed ? 'block' : 'none';\n",
              "\n",
              "      async function convertToInteractive(key) {\n",
              "        const element = document.querySelector('#df-d6f1ebd0-0764-409f-947a-d2a2fc9be90f');\n",
              "        const dataTable =\n",
              "          await google.colab.kernel.invokeFunction('convertToInteractive',\n",
              "                                                    [key], {});\n",
              "        if (!dataTable) return;\n",
              "\n",
              "        const docLinkHtml = 'Like what you see? Visit the ' +\n",
              "          '<a target=\"_blank\" href=https://colab.research.google.com/notebooks/data_table.ipynb>data table notebook</a>'\n",
              "          + ' to learn more about interactive tables.';\n",
              "        element.innerHTML = '';\n",
              "        dataTable['output_type'] = 'display_data';\n",
              "        await google.colab.output.renderOutput(dataTable, element);\n",
              "        const docLink = document.createElement('div');\n",
              "        docLink.innerHTML = docLinkHtml;\n",
              "        element.appendChild(docLink);\n",
              "      }\n",
              "    </script>\n",
              "  </div>\n",
              "\n",
              "\n",
              "<div id=\"df-c00bbd65-2d21-4fe7-a25d-182252838265\">\n",
              "  <button class=\"colab-df-quickchart\" onclick=\"quickchart('df-c00bbd65-2d21-4fe7-a25d-182252838265')\"\n",
              "            title=\"Suggest charts\"\n",
              "            style=\"display:none;\">\n",
              "\n",
              "<svg xmlns=\"http://www.w3.org/2000/svg\" height=\"24px\"viewBox=\"0 0 24 24\"\n",
              "     width=\"24px\">\n",
              "    <g>\n",
              "        <path d=\"M19 3H5c-1.1 0-2 .9-2 2v14c0 1.1.9 2 2 2h14c1.1 0 2-.9 2-2V5c0-1.1-.9-2-2-2zM9 17H7v-7h2v7zm4 0h-2V7h2v10zm4 0h-2v-4h2v4z\"/>\n",
              "    </g>\n",
              "</svg>\n",
              "  </button>\n",
              "\n",
              "<style>\n",
              "  .colab-df-quickchart {\n",
              "      --bg-color: #E8F0FE;\n",
              "      --fill-color: #1967D2;\n",
              "      --hover-bg-color: #E2EBFA;\n",
              "      --hover-fill-color: #174EA6;\n",
              "      --disabled-fill-color: #AAA;\n",
              "      --disabled-bg-color: #DDD;\n",
              "  }\n",
              "\n",
              "  [theme=dark] .colab-df-quickchart {\n",
              "      --bg-color: #3B4455;\n",
              "      --fill-color: #D2E3FC;\n",
              "      --hover-bg-color: #434B5C;\n",
              "      --hover-fill-color: #FFFFFF;\n",
              "      --disabled-bg-color: #3B4455;\n",
              "      --disabled-fill-color: #666;\n",
              "  }\n",
              "\n",
              "  .colab-df-quickchart {\n",
              "    background-color: var(--bg-color);\n",
              "    border: none;\n",
              "    border-radius: 50%;\n",
              "    cursor: pointer;\n",
              "    display: none;\n",
              "    fill: var(--fill-color);\n",
              "    height: 32px;\n",
              "    padding: 0;\n",
              "    width: 32px;\n",
              "  }\n",
              "\n",
              "  .colab-df-quickchart:hover {\n",
              "    background-color: var(--hover-bg-color);\n",
              "    box-shadow: 0 1px 2px rgba(60, 64, 67, 0.3), 0 1px 3px 1px rgba(60, 64, 67, 0.15);\n",
              "    fill: var(--button-hover-fill-color);\n",
              "  }\n",
              "\n",
              "  .colab-df-quickchart-complete:disabled,\n",
              "  .colab-df-quickchart-complete:disabled:hover {\n",
              "    background-color: var(--disabled-bg-color);\n",
              "    fill: var(--disabled-fill-color);\n",
              "    box-shadow: none;\n",
              "  }\n",
              "\n",
              "  .colab-df-spinner {\n",
              "    border: 2px solid var(--fill-color);\n",
              "    border-color: transparent;\n",
              "    border-bottom-color: var(--fill-color);\n",
              "    animation:\n",
              "      spin 1s steps(1) infinite;\n",
              "  }\n",
              "\n",
              "  @keyframes spin {\n",
              "    0% {\n",
              "      border-color: transparent;\n",
              "      border-bottom-color: var(--fill-color);\n",
              "      border-left-color: var(--fill-color);\n",
              "    }\n",
              "    20% {\n",
              "      border-color: transparent;\n",
              "      border-left-color: var(--fill-color);\n",
              "      border-top-color: var(--fill-color);\n",
              "    }\n",
              "    30% {\n",
              "      border-color: transparent;\n",
              "      border-left-color: var(--fill-color);\n",
              "      border-top-color: var(--fill-color);\n",
              "      border-right-color: var(--fill-color);\n",
              "    }\n",
              "    40% {\n",
              "      border-color: transparent;\n",
              "      border-right-color: var(--fill-color);\n",
              "      border-top-color: var(--fill-color);\n",
              "    }\n",
              "    60% {\n",
              "      border-color: transparent;\n",
              "      border-right-color: var(--fill-color);\n",
              "    }\n",
              "    80% {\n",
              "      border-color: transparent;\n",
              "      border-right-color: var(--fill-color);\n",
              "      border-bottom-color: var(--fill-color);\n",
              "    }\n",
              "    90% {\n",
              "      border-color: transparent;\n",
              "      border-bottom-color: var(--fill-color);\n",
              "    }\n",
              "  }\n",
              "</style>\n",
              "\n",
              "  <script>\n",
              "    async function quickchart(key) {\n",
              "      const quickchartButtonEl =\n",
              "        document.querySelector('#' + key + ' button');\n",
              "      quickchartButtonEl.disabled = true;  // To prevent multiple clicks.\n",
              "      quickchartButtonEl.classList.add('colab-df-spinner');\n",
              "      try {\n",
              "        const charts = await google.colab.kernel.invokeFunction(\n",
              "            'suggestCharts', [key], {});\n",
              "      } catch (error) {\n",
              "        console.error('Error during call to suggestCharts:', error);\n",
              "      }\n",
              "      quickchartButtonEl.classList.remove('colab-df-spinner');\n",
              "      quickchartButtonEl.classList.add('colab-df-quickchart-complete');\n",
              "    }\n",
              "    (() => {\n",
              "      let quickchartButtonEl =\n",
              "        document.querySelector('#df-c00bbd65-2d21-4fe7-a25d-182252838265 button');\n",
              "      quickchartButtonEl.style.display =\n",
              "        google.colab.kernel.accessAllowed ? 'block' : 'none';\n",
              "    })();\n",
              "  </script>\n",
              "</div>\n",
              "    </div>\n",
              "  </div>\n"
            ],
            "text/plain": [
              "                                       OriginalTweet           Sentiment\n",
              "0  @MeNyrbie @Phil_Gahan @Chrisitv https://t.co/i...             Neutral\n",
              "1  advice Talk to your neighbours family to excha...            Positive\n",
              "2  Coronavirus Australia: Woolworths to give elde...            Positive\n",
              "3  My food stock is not the only one which is emp...            Positive\n",
              "4  Me, ready to go at supermarket during the #COV...  Extremely Negative"
            ]
          },
          "execution_count": 3,
          "metadata": {},
          "output_type": "execute_result"
        }
      ],
      "source": [
        "# Remove other columns\n",
        "tweets = tweets[['OriginalTweet', 'Sentiment']]\n",
        "tweets.head()"
      ]
    },
    {
      "cell_type": "markdown",
      "metadata": {
        "id": "TQ37oXpJ4lPc"
      },
      "source": [
        "Let's analyse our target variable `Sentiment`. We can see that there are five classes: Extremely Negative, Negative, Neutral, Positive, Extremely Positive. Do these labels make sense?"
      ]
    },
    {
      "cell_type": "code",
      "execution_count": null,
      "metadata": {
        "colab": {
          "base_uri": "https://localhost:8080/"
        },
        "id": "UVattfp54r2e",
        "outputId": "4eae4636-a4a5-49fa-81db-d57dc2e1e474"
      },
      "outputs": [
        {
          "data": {
            "text/plain": [
              "Positive              11422\n",
              "Negative               9917\n",
              "Neutral                7713\n",
              "Extremely Positive     6624\n",
              "Extremely Negative     5481\n",
              "Name: Sentiment, dtype: int64"
            ]
          },
          "execution_count": 4,
          "metadata": {},
          "output_type": "execute_result"
        }
      ],
      "source": [
        "tweets[\"Sentiment\"].value_counts()"
      ]
    },
    {
      "cell_type": "markdown",
      "metadata": {
        "id": "Hx-suHSw6FrD"
      },
      "source": [
        "When analysing the Extremely Negative and the Negative labels. I find it hard to determine when a tweet is negative or extremely negative. If a human finds this hard to do, a ML model will probably also have difficulties in predicting correctly."
      ]
    },
    {
      "cell_type": "code",
      "execution_count": null,
      "metadata": {
        "colab": {
          "base_uri": "https://localhost:8080/"
        },
        "id": "m8iH6-Vn6bx-",
        "outputId": "8447c0a8-13cd-4bbf-9d6d-4d69ea912e6d"
      },
      "outputs": [
        {
          "name": "stdout",
          "output_type": "stream",
          "text": [
            "                                          OriginalTweet\n",
            "3893  Hoarding. Empty shelves. Supermarket fights. S...\n",
            "9615  @megynkelly I agree that we need to focus on w...\n",
            "8923  This makes me feel sick! \"Girl, 13, crushed by...\n",
            "1619  Hubs told me today that I should stock up on m...\n",
            "469   San Francisco Curfew: Residents Banned From Le...\n",
            "                                           OriginalTweet\n",
            "4548   @stewartbrand @HankGreelyLSJU Wondering if it'...\n",
            "5158   @DorsetGirl1 @PaddySitsDown @Dis_PPL_Protest @...\n",
            "8725   Gas prices have dropped drastically I ve actua...\n",
            "10895  So I am still risking my life working at the g...\n",
            "2483   People are just selfish, Stop stock piling foo...\n"
          ]
        }
      ],
      "source": [
        "print(tweets.loc[(tweets[\"Sentiment\"] == \"Extremely Negative\"), [\"OriginalTweet\"]].sample(5))\n",
        "print(tweets.loc[(tweets[\"Sentiment\"] == \"Negative\"), [\"OriginalTweet\"]].sample(5))"
      ]
    },
    {
      "cell_type": "markdown",
      "metadata": {
        "id": "7WyRnXc25DRx"
      },
      "source": [
        "To simplify our ML problem slightly let's rename the extremes to just positive or negative."
      ]
    },
    {
      "cell_type": "code",
      "execution_count": 4,
      "metadata": {
        "colab": {
          "base_uri": "https://localhost:8080/"
        },
        "id": "5HSL3Wbj5Dcq",
        "outputId": "42198e4a-a660-46a2-c17f-4b761baef9c2"
      },
      "outputs": [
        {
          "data": {
            "text/plain": [
              "Positive    18046\n",
              "Negative    15398\n",
              "Neutral      7713\n",
              "Name: Sentiment, dtype: int64"
            ]
          },
          "execution_count": 4,
          "metadata": {},
          "output_type": "execute_result"
        }
      ],
      "source": [
        "tweets['Sentiment'] = tweets['Sentiment'].str.replace('Extremely Negative', 'Negative')"
      ]
    },
    {
      "cell_type": "markdown",
      "metadata": {
        "id": "A1xKZM2jR38i"
      },
      "source": [
        "**Add the missing code!**\n",
        "\n",
        "Now do the same thing for the extremely positive class. Afterward, show the number of occurences per class."
      ]
    },
    {
      "cell_type": "code",
      "execution_count": null,
      "metadata": {
        "id": "_NZZ6VHKSB5t"
      },
      "outputs": [],
      "source": [
        "# Start coding here\n",
        "\n",
        "\n",
        "# End coding here"
      ]
    },
    {
      "cell_type": "markdown",
      "metadata": {
        "id": "WjOOt0NiR2eW"
      },
      "source": [
        "## Processing text data\n",
        "\n",
        "Before we train a model on text data we need to process the data accordingly. We start with Bag of Words processing otherwise known as Count Vectorization. We saw in the lecture that this method is similar to dummy coding. For every row of text it returns the index of a word together with the number of times the word occurs in the row. Let's look at the code."
      ]
    },
    {
      "cell_type": "code",
      "execution_count": null,
      "metadata": {
        "colab": {
          "base_uri": "https://localhost:8080/"
        },
        "id": "09brLZCOR6l4",
        "outputId": "808e96db-07aa-4ee5-e7b1-80659c4c3016"
      },
      "outputs": [
        {
          "name": "stdout",
          "output_type": "stream",
          "text": [
            "The tweet: @MeNyrbie @Phil_Gahan @Chrisitv https://t.co/iFz9FAn2Pa and https://t.co/xX6ghGFzCC and https://t.co/I2NlzdxNo8 is transformed to the following matrix:\n",
            "  (0, 17842)\t1\n",
            "  (0, 21043)\t1\n",
            "  (0, 5963)\t1\n",
            "  (0, 13674)\t3\n",
            "  (0, 6299)\t3\n",
            "  (0, 14016)\t1\n",
            "  (0, 2723)\t2\n",
            "  (0, 30825)\t1\n",
            "  (0, 13847)\t1\n"
          ]
        }
      ],
      "source": [
        "from sklearn.feature_extraction.text import CountVectorizer\n",
        "\n",
        "count_vectorizer = CountVectorizer()\n",
        "bow_matrix = count_vectorizer.fit_transform(tweets['OriginalTweet'])\n",
        "\n",
        "print(f\"The tweet: {tweets['OriginalTweet'][0]} is transformed to the following matrix:\")\n",
        "print(bow_matrix[0])"
      ]
    },
    {
      "cell_type": "markdown",
      "metadata": {
        "id": "Y5u9iBk-U6HU"
      },
      "source": [
        "The `bow_matrix` contains a list of indices of words together with the counts. We can use the indices to find the accompanying words."
      ]
    },
    {
      "cell_type": "code",
      "execution_count": null,
      "metadata": {
        "colab": {
          "base_uri": "https://localhost:8080/"
        },
        "id": "JlE54pBAU6UL",
        "outputId": "f44f2bde-ebce-497e-a9c8-e59da23381fb"
      },
      "outputs": [
        {
          "name": "stdout",
          "output_type": "stream",
          "text": [
            "Feature Names (Words):\n",
            "['00' '000' '0000' ... 'ã¼berweist' 'ã¼cretsiz' 'ã¼retime']\n",
            "(0,45640) = menyrbie\n",
            "(0,8157) = and\n"
          ]
        }
      ],
      "source": [
        "feature_names = count_vectorizer.get_feature_names_out()\n",
        "\n",
        "print(\"Feature Names (Words):\")\n",
        "print(feature_names)\n",
        "\n",
        "print(f\"(0,45640) = {feature_names[45640]}\")\n",
        "print(f\"(0,8157) = {feature_names[8157]}\")"
      ]
    },
    {
      "cell_type": "markdown",
      "metadata": {
        "id": "JTbov5K0Zd1Q"
      },
      "source": [
        "While BoW is a useful representation, it has a limitation. It treats all words equally and doesn't consider the importance of each word. TF-IDF is a way to address this issue. It stands for Term Frequency-Inverse Document Frequency.\n",
        "\n",
        "**Add the missing code!**\n",
        "\n",
        "Now transform the tweets using `TfidfVectorizer`."
      ]
    },
    {
      "cell_type": "code",
      "execution_count": null,
      "metadata": {
        "colab": {
          "base_uri": "https://localhost:8080/"
        },
        "id": "q7qR0rJjSQoG",
        "outputId": "a313cdda-b3a4-43a4-92e4-be9fef5100e8"
      },
      "outputs": [
        {
          "name": "stdout",
          "output_type": "stream",
          "text": [
            "The tweet: @MeNyrbie @Phil_Gahan @Chrisitv https://t.co/iFz9FAn2Pa and https://t.co/xX6ghGFzCC and https://t.co/I2NlzdxNo8 is transformed to the following matrix:\n",
            "  (0, 34945)\t0.39400086373488136\n",
            "  (0, 78222)\t0.39400086373488136\n",
            "  (0, 8157)\t0.13341941888603484\n",
            "  (0, 35404)\t0.39400086373488136\n",
            "  (0, 16694)\t0.1867065561834113\n",
            "  (0, 34486)\t0.18703308024142698\n",
            "  (0, 15921)\t0.3690191652454988\n",
            "  (0, 54092)\t0.39400086373488136\n",
            "  (0, 45640)\t0.39400086373488136\n"
          ]
        }
      ],
      "source": [
        "from sklearn.feature_extraction.text import TfidfVectorizer\n",
        "\n",
        "# Start coding here\n",
        "tfidf_matrix = None\n",
        "# End coding here\n",
        "\n",
        "print(f\"The tweet: {tweets['OriginalTweet'][0]} is transformed to the following matrix:\")\n",
        "print(tfidf_matrix[0])"
      ]
    },
    {
      "cell_type": "markdown",
      "metadata": {
        "id": "bR5YmoKtaENE"
      },
      "source": [
        "We need to train the same model a couple of times in this lecture with different data. Therefore, we will create a function that splits the data, trains a random forest model and evaluates its performance."
      ]
    },
    {
      "cell_type": "code",
      "execution_count": 5,
      "metadata": {
        "id": "QEusOxDXbKFL"
      },
      "outputs": [],
      "source": [
        "from sklearn.model_selection import train_test_split\n",
        "from sklearn.ensemble import RandomForestClassifier\n",
        "from sklearn.metrics import classification_report\n",
        "\n",
        "def test_performance(X, y):\n",
        "\n",
        "    X_train, X_test, y_train, y_test = train_test_split(X, y, test_size=0.2, random_state=42)\n",
        "\n",
        "    model = RandomForestClassifier(n_estimators=25, random_state=42)\n",
        "    model.fit(X_train, y_train)\n",
        "\n",
        "    y_pred = model.predict(X_test)\n",
        "    accuracy = classification_report(y_test, y_pred)\n",
        "    print(accuracy)"
      ]
    },
    {
      "cell_type": "markdown",
      "metadata": {
        "id": "cSbd47Rc9jbv"
      },
      "source": [
        "Let's train the model with BoW preproccessing first."
      ]
    },
    {
      "cell_type": "code",
      "execution_count": null,
      "metadata": {
        "colab": {
          "base_uri": "https://localhost:8080/"
        },
        "id": "dP97tZyYbxmy",
        "outputId": "b0531d23-505f-4fd9-9a64-cd59f332905d"
      },
      "outputs": [
        {
          "name": "stdout",
          "output_type": "stream",
          "text": [
            "              precision    recall  f1-score   support\n",
            "\n",
            "    Negative       0.67      0.65      0.66      3062\n",
            "     Neutral       0.64      0.51      0.57      1553\n",
            "    Positive       0.68      0.76      0.72      3617\n",
            "\n",
            "    accuracy                           0.67      8232\n",
            "   macro avg       0.67      0.64      0.65      8232\n",
            "weighted avg       0.67      0.67      0.67      8232\n",
            "\n"
          ]
        }
      ],
      "source": [
        "test_performance(bow_matrix, tweets['Sentiment'])"
      ]
    },
    {
      "cell_type": "markdown",
      "metadata": {
        "id": "Tc-KrGvO9sW3"
      },
      "source": [
        "**Add the missing code!**\n",
        "\n",
        "Now it's your turn to train the model on data that is preprocessed with TF-IDF."
      ]
    },
    {
      "cell_type": "code",
      "execution_count": null,
      "metadata": {
        "colab": {
          "base_uri": "https://localhost:8080/"
        },
        "id": "k1P7kdvvcBdO",
        "outputId": "e8b47256-3360-4359-b3f2-9d9f4981de93"
      },
      "outputs": [
        {
          "name": "stdout",
          "output_type": "stream",
          "text": [
            "              precision    recall  f1-score   support\n",
            "\n",
            "    Negative       0.65      0.63      0.64      3062\n",
            "     Neutral       0.65      0.43      0.52      1553\n",
            "    Positive       0.65      0.77      0.71      3617\n",
            "\n",
            "    accuracy                           0.65      8232\n",
            "   macro avg       0.65      0.61      0.62      8232\n",
            "weighted avg       0.65      0.65      0.65      8232\n",
            "\n"
          ]
        }
      ],
      "source": [
        "# Start coding here\n",
        "\n",
        "# End coding here"
      ]
    },
    {
      "cell_type": "markdown",
      "metadata": {
        "id": "Qkk0hk8icz5y"
      },
      "source": [
        "## Cleaning the text data"
      ]
    },
    {
      "cell_type": "markdown",
      "metadata": {
        "id": "U5arrQsGCMPb"
      },
      "source": [
        "In order to work with text data, we need to clean the data first. In this course we use two packages for that: `re` and `nltk`. `re` enables us to write regular expressions which can be effective when filtering very specifically in text data. `nltk` is a package that is focused on Natural Language Processing (NLP). It offers tools to get list of stopwords in multiple languages as well as preprocessors that stem or lemmatize words. Let's start with importing the packages. Afterward, we download the right data that is used by nltk for lemmatization."
      ]
    },
    {
      "cell_type": "code",
      "execution_count": 6,
      "metadata": {
        "colab": {
          "base_uri": "https://localhost:8080/"
        },
        "id": "WVsd664Yc0In",
        "outputId": "bc9481ed-6f79-479d-9d61-cce34c9ac8d8"
      },
      "outputs": [
        {
          "name": "stderr",
          "output_type": "stream",
          "text": [
            "[nltk_data] Downloading package wordnet to /root/nltk_data...\n"
          ]
        },
        {
          "data": {
            "text/plain": [
              "True"
            ]
          },
          "execution_count": 6,
          "metadata": {},
          "output_type": "execute_result"
        }
      ],
      "source": [
        "import re\n",
        "import nltk\n",
        "from nltk.corpus import stopwords\n",
        "from nltk.stem import WordNetLemmatizer\n",
        "\n",
        "nltk.download('wordnet')"
      ]
    },
    {
      "cell_type": "markdown",
      "metadata": {
        "id": "6QqAcWnCc11C"
      },
      "source": [
        "In the provided code, there's a Python function called `clean_text` designed to tidy up tweets. Here's what it does:\n",
        "\n",
        "1. **Remove URLs**: Replaces web links with the word \"websitelink\".\n",
        "2. **Remove HTML Tags**: Gets rid of any HTML tags in the tweet.\n",
        "3. **Remove Digits**: Eliminates numbers from the tweet.\n",
        "4. **Remove Mentions**: Turns Twitter mentions (like '@username') into just '@'.\n",
        "5. **Remove Non-Alphabetic Characters**: Replaces non-alphabetic characters with spaces.\n",
        "6. **Remove Extra Whitespace**: Ensures only one space between words and converts everything to lowercase.\n",
        "\n",
        "The function is then applied to a DataFrame called 'tweets', specifically to the 'OriginalTweet' column. The cleaned tweets are stored in a new column called 'clean_tweets'. This kind of cleaning is important when working with text data for machine learning, making sure unnecessary details are removed for better analysis."
      ]
    },
    {
      "cell_type": "code",
      "execution_count": 20,
      "metadata": {
        "colab": {
          "base_uri": "https://localhost:8080/"
        },
        "id": "cJRvwk6fc2K3",
        "outputId": "6a30288f-734a-4b3a-e5e5-81a4e77d89d6"
      },
      "outputs": [
        {
          "data": {
            "text/plain": [
              "0              websitelink and websitelink and websitelink\n",
              "1        advice talk to your neighbours family to excha...\n",
              "2        coronavirus australia woolworths to give elder...\n",
              "3        my food stock is not the only one which is emp...\n",
              "4        me ready to go at supermarket during the covid...\n",
              "                               ...                        \n",
              "41152    airline pilots offering to stock supermarket s...\n",
              "41153    response to complaint not provided citing covi...\n",
              "41154    you know it s getting tough when is rationing ...\n",
              "41155    is it wrong that the smell of hand sanitizer i...\n",
              "41156     well new used rift s are going for on amazon ...\n",
              "Name: clean_tweets, Length: 41157, dtype: object"
            ]
          },
          "execution_count": 20,
          "metadata": {},
          "output_type": "execute_result"
        }
      ],
      "source": [
        "def clean_text(tweet):\n",
        "    # remove urls\n",
        "    tweet = re.sub(r'http\\S+', 'websitelink', tweet)\n",
        "    # remove html tags\n",
        "    tweet = re.sub(r'<.*?>',' ', tweet)\n",
        "    # remove digits\n",
        "    tweet = re.sub(r'\\d+',' ', tweet)\n",
        "    # remove hashtags\n",
        "    tweet = re.sub(r'#\\w+',' ', tweet)\n",
        "    # remove mentions\n",
        "    tweet = re.sub(r'@\\w+','@', tweet)\n",
        "\n",
        "    tweet = re.sub(r'[^a-zA-Z]', ' ', tweet)\n",
        "    tweet = re.sub(r'\\s+', ' ', tweet)\n",
        "    tweet = tweet.lower()\n",
        "    return tweet\n",
        "\n",
        "tweets['clean_tweets'] = tweets['OriginalTweet'].apply(clean_text)\n",
        "tweets['clean_tweets']"
      ]
    },
    {
      "cell_type": "markdown",
      "metadata": {
        "id": "gRqDxoojdLLo"
      },
      "source": [
        "In this step, we're enhancing our cleaned tweets using a tool called a lemmatizer. Think of it like simplifying words to their basic form. This helps in making our text even more consistent for analysis. The lemmatizer takes words and transforms them into their root or base form, ensuring that variations of the same word are treated similarly. This kind of refinement is common in natural language processing (NLP) to improve the performance of our models when working with text data."
      ]
    },
    {
      "cell_type": "code",
      "execution_count": null,
      "metadata": {
        "id": "1AHPn1iVdLSo"
      },
      "outputs": [],
      "source": [
        "lemmatizer = WordNetLemmatizer()\n",
        "tweets['lemmatized_tweets'] = tweets['clean_tweets'].apply(lambda x: ' '.join([lemmatizer.lemmatize(word) for word in x.split()]))\n"
      ]
    },
    {
      "cell_type": "markdown",
      "metadata": {
        "id": "O8u95J2ZdZ6s"
      },
      "source": [
        "In this part, we're doing more to get our text ready for analysis. First, we're grabbing a set of common English words that usually don't carry much meaning in a text. We call these \"stopwords.\" Then, we have a function that takes our lemmatized tweets and removes these unimportant words. This process is like cleaning up our text even further, making it more focused and useful for machine learning tasks."
      ]
    },
    {
      "cell_type": "code",
      "execution_count": null,
      "metadata": {
        "colab": {
          "base_uri": "https://localhost:8080/"
        },
        "id": "MQ_rUo5SdaGD",
        "outputId": "e14bf371-29c8-43f6-8bfe-a2fefb1ccfc7"
      },
      "outputs": [
        {
          "name": "stderr",
          "output_type": "stream",
          "text": [
            "[nltk_data] Downloading package stopwords to /root/nltk_data...\n",
            "[nltk_data]   Unzipping corpora/stopwords.zip.\n"
          ]
        },
        {
          "data": {
            "text/plain": [
              "0                      websitelink websitelink websitelink\n",
              "1        advice talk neighbour family exchange phone nu...\n",
              "2        coronavirus australia woolworth give elderly d...\n",
              "3        food stock one empty please panic enough food ...\n",
              "4        ready go supermarket outbreak paranoid food st...\n",
              "                               ...                        \n",
              "41152    airline pilot offering stock supermarket shelf...\n",
              "41153    response complaint provided citing covid relat...\n",
              "41154    know getting tough rationing toilet paper mart...\n",
              "41155             wrong smell hand sanitizer starting turn\n",
              "41156    well new used rift going amazon rn although no...\n",
              "Name: preprocessed_tweets, Length: 41157, dtype: object"
            ]
          },
          "execution_count": 16,
          "metadata": {},
          "output_type": "execute_result"
        }
      ],
      "source": [
        "nltk.download('stopwords')\n",
        "stop_words = set(stopwords.words('english'))\n",
        "\n",
        "def preprocess_text(text):\n",
        "    words = text.split()\n",
        "    words = [word for word in words if word not in stop_words]\n",
        "    return ' '.join(words)\n",
        "\n",
        "tweets['preprocessed_tweets'] = tweets['lemmatized_tweets'].apply(preprocess_text)\n",
        "tweets['preprocessed_tweets']"
      ]
    },
    {
      "cell_type": "markdown",
      "metadata": {
        "id": "tR9VQ84JLL0s"
      },
      "source": [
        "**Add the missing code!**\n",
        "\n",
        "Evaluate a new model that is trained on the clean text and using the count vectorizer.\n",
        "\n",
        "*Hint: you can again use the `test_performance` method for training the model.*"
      ]
    },
    {
      "cell_type": "code",
      "execution_count": null,
      "metadata": {
        "colab": {
          "base_uri": "https://localhost:8080/"
        },
        "id": "-Q1-rLfreEJg",
        "outputId": "0dd7a9cf-3b40-4d4a-d6b7-003102ce3ec1"
      },
      "outputs": [
        {
          "name": "stdout",
          "output_type": "stream",
          "text": [
            "              precision    recall  f1-score   support\n",
            "\n",
            "    Negative       0.75      0.71      0.73      3062\n",
            "     Neutral       0.66      0.72      0.69      1553\n",
            "    Positive       0.78      0.79      0.79      3617\n",
            "\n",
            "    accuracy                           0.75      8232\n",
            "   macro avg       0.73      0.74      0.74      8232\n",
            "weighted avg       0.75      0.75      0.75      8232\n",
            "\n"
          ]
        }
      ],
      "source": [
        "# Start coding here\n",
        "\n",
        "# End coding here"
      ]
    },
    {
      "cell_type": "markdown",
      "metadata": {
        "id": "7gSFv1GBNM4H"
      },
      "source": [
        "## Embeddings with SentenceTransformers\n",
        "\n",
        "[SentenceTransformers](https://www.sbert.net/) contains a class of models designed to transform sentences or longer text passages into fixed-size vector representations. These vector representations capture semantic meaning and context, allowing for more effective comparisons and analyses of sentences. Unlike traditional methods that treat words individually, sentence transformers leverage advanced techniques, often based on deep learning architectures, to understand relationships and context within sentences. These models are particularly useful in natural language processing tasks, such as text similarity, sentiment analysis, and other applications where understanding the meaning of entire sentences is crucial."
      ]
    },
    {
      "cell_type": "code",
      "execution_count": 9,
      "metadata": {
        "id": "Tzwm0cCtojBl"
      },
      "outputs": [],
      "source": [
        "from sentence_transformers import SentenceTransformer"
      ]
    },
    {
      "cell_type": "markdown",
      "metadata": {
        "id": "NcODvK2TNuPk"
      },
      "source": [
        "In this line of code, we're setting up a Sentence Transformer model named `'BAAI/bge-small-en-v1.5'`, but if you go to the documentation page, you can see multiple other models that all can be used if desired. Think of the model as a powerful tool that understands the meaning and context of sentences in English. These models are pre-trained on large amounts of text data, allowing them to transform sentences into numerical representations. This capability is handy for tasks like comparing sentences, summarization, and various other natural language processing applications."
      ]
    },
    {
      "cell_type": "code",
      "execution_count": 33,
      "metadata": {
        "id": "EDRdMCGzzC9K"
      },
      "outputs": [],
      "source": [
        "model = SentenceTransformer('BAAI/bge-small-en-v1.5')"
      ]
    },
    {
      "cell_type": "markdown",
      "metadata": {
        "id": "8facU-JxOEKc"
      },
      "source": [
        "\n",
        "In these lines, we're using a Sentence Transformer model to transform a list of words ('cat', 'dog', 'human', 'car', 'man') into numerical vectors. Each word gets converted into a mathematical representation that captures its meaning and context. These vectors can be used for tasks like measuring similarity between words or understanding relationships in a broader context, making it easier for machines to work with and understand language."
      ]
    },
    {
      "cell_type": "code",
      "execution_count": 49,
      "metadata": {
        "colab": {
          "base_uri": "https://localhost:8080/"
        },
        "id": "AOOhdHo-GDuk",
        "outputId": "6cf426ce-8cb4-4ef0-e59b-80a1bd65ce86"
      },
      "outputs": [
        {
          "data": {
            "text/plain": [
              "array([[-0.00381778, -0.03585663,  0.02385329, ...,  0.03592763,\n",
              "         0.05585116,  0.07259032],\n",
              "       [-0.00966867, -0.07800861,  0.03640031, ...,  0.0029793 ,\n",
              "         0.01925901,  0.05203847],\n",
              "       [ 0.01189088,  0.01284242,  0.04389006, ..., -0.00900077,\n",
              "        -0.02560707, -0.01706192],\n",
              "       [ 0.01463905,  0.03904432,  0.07065105, ...,  0.02417296,\n",
              "         0.01121391,  0.02060236],\n",
              "       [ 0.00239759,  0.01517005,  0.03391154, ..., -0.03873707,\n",
              "        -0.04853031, -0.03482052]], dtype=float32)"
            ]
          },
          "execution_count": 49,
          "metadata": {},
          "output_type": "execute_result"
        }
      ],
      "source": [
        "strings = ['cat', 'dog', 'human', 'car', 'man']\n",
        "vectors = model.encode(strings)\n",
        "vectors"
      ]
    },
    {
      "cell_type": "markdown",
      "metadata": {
        "id": "9VOAiU1VOLvf"
      },
      "source": [
        "We're using a mathematical measure called cosine similarity to compare the numerical vectors of different words ('cat', 'dog', 'human', 'car', 'man'). The result is a matrix showing how similar each pair of words is to each other. By looking at this matrix, we can understand the relationships and similarities between these words based on their meanings and context."
      ]
    },
    {
      "cell_type": "code",
      "execution_count": 50,
      "metadata": {
        "colab": {
          "base_uri": "https://localhost:8080/"
        },
        "id": "QvNGibLVKcuv",
        "outputId": "9c4a4f49-5f80-4f21-a8b1-f0a0c5db851b"
      },
      "outputs": [
        {
          "name": "stdout",
          "output_type": "stream",
          "text": [
            "Similarity between 'cat' and 'cat': 1.0000001192092896\n",
            "Similarity between 'cat' and 'dog': 0.7337967157363892\n",
            "Similarity between 'cat' and 'human': 0.7119252681732178\n",
            "Similarity between 'cat' and 'car': 0.6915476322174072\n",
            "Similarity between 'cat' and 'man': 0.5830264091491699\n",
            "Similarity between 'dog' and 'cat': 0.7337967157363892\n",
            "Similarity between 'dog' and 'dog': 1.0\n",
            "Similarity between 'dog' and 'human': 0.761755108833313\n",
            "Similarity between 'dog' and 'car': 0.6699107885360718\n",
            "Similarity between 'dog' and 'man': 0.6444849967956543\n",
            "Similarity between 'human' and 'cat': 0.7119252681732178\n",
            "Similarity between 'human' and 'dog': 0.761755108833313\n",
            "Similarity between 'human' and 'human': 0.9999997615814209\n",
            "Similarity between 'human' and 'car': 0.6777195930480957\n",
            "Similarity between 'human' and 'man': 0.8355741500854492\n",
            "Similarity between 'car' and 'cat': 0.6915476322174072\n",
            "Similarity between 'car' and 'dog': 0.6699107885360718\n",
            "Similarity between 'car' and 'human': 0.6777195930480957\n",
            "Similarity between 'car' and 'car': 1.0\n",
            "Similarity between 'car' and 'man': 0.635090172290802\n",
            "Similarity between 'man' and 'cat': 0.5830264091491699\n",
            "Similarity between 'man' and 'dog': 0.6444849967956543\n",
            "Similarity between 'man' and 'human': 0.8355741500854492\n",
            "Similarity between 'man' and 'car': 0.635090172290802\n",
            "Similarity between 'man' and 'man': 0.9999998807907104\n"
          ]
        }
      ],
      "source": [
        "from sklearn.metrics.pairwise import cosine_similarity\n",
        "\n",
        "similarity_matrix = cosine_similarity(vectors)\n",
        "for i in range(len(strings)):\n",
        "    for j in range(len(strings)):\n",
        "        print(f\"Similarity between '{strings[i]}' and '{strings[j]}': {similarity_matrix[i, j]}\")"
      ]
    },
    {
      "cell_type": "markdown",
      "metadata": {
        "id": "aOMtYOgFXAgj"
      },
      "source": [
        "We can now use a dimensionality reduction model to visualize the features. We saw PCA for this purpose already in a previous lesson. For visualizing word embeddings, T-SNE is a much used model. This model can capture much more complex and non-linear data."
      ]
    },
    {
      "cell_type": "code",
      "execution_count": 57,
      "metadata": {
        "colab": {
          "base_uri": "https://localhost:8080/",
          "height": 545
        },
        "id": "mqDehx_aVFG4",
        "outputId": "7223d94c-e26d-4c4f-b680-dea295391f69"
      },
      "outputs": [
        {
          "data": {
            "image/png": "[encoded data removed]",
            "text/plain": [
              "<Figure size 800x600 with 1 Axes>"
            ]
          },
          "metadata": {},
          "output_type": "display_data"
        }
      ],
      "source": [
        "import matplotlib.pyplot as plt\n",
        "from sklearn.manifold import TSNE\n",
        "\n",
        "# n_components=2 because we want to visualize in 2D\n",
        "tsne = TSNE(n_components=2, perplexity=2, random_state=42)\n",
        "vectors_2d = tsne.fit_transform(vectors)\n",
        "\n",
        "# Visualize the distances in a scatter plot\n",
        "plt.figure(figsize=(8, 6))\n",
        "for i in range(len(strings)):\n",
        "    plt.scatter(vectors_2d[i, 0], vectors_2d[i, 1], label=strings[i], s=100)\n",
        "\n",
        "plt.title('T-SNE Visualization of Sentence Embeddings')\n",
        "plt.legend()\n",
        "plt.show()"
      ]
    },
    {
      "cell_type": "markdown",
      "metadata": {
        "id": "FCP-7vudT-rW"
      },
      "source": [
        "**Add the missing code!**\n",
        "\n",
        "Now it's up to you to compare the distance of the words: 'Man', 'Woman', 'King' and 'Queen'."
      ]
    },
    {
      "cell_type": "code",
      "execution_count": 38,
      "metadata": {
        "colab": {
          "base_uri": "https://localhost:8080/"
        },
        "id": "LkG9bAVhUYac",
        "outputId": "6364d309-493a-4e21-d371-2f7282f2e173"
      },
      "outputs": [
        {
          "name": "stdout",
          "output_type": "stream",
          "text": [
            "Similarity between 'Man' and 'Man': 1.0\n",
            "Similarity between 'Man' and 'Woman': 0.7128849625587463\n",
            "Similarity between 'Man' and 'King': 0.6127902269363403\n",
            "Similarity between 'Man' and 'Queen': 0.5600411295890808\n",
            "Similarity between 'Woman' and 'Man': 0.7128849625587463\n",
            "Similarity between 'Woman' and 'Woman': 1.0000004768371582\n",
            "Similarity between 'Woman' and 'King': 0.5310394167900085\n",
            "Similarity between 'Woman' and 'Queen': 0.671815812587738\n",
            "Similarity between 'King' and 'Man': 0.6127902269363403\n",
            "Similarity between 'King' and 'Woman': 0.5310394167900085\n",
            "Similarity between 'King' and 'King': 1.0\n",
            "Similarity between 'King' and 'Queen': 0.735045850276947\n",
            "Similarity between 'Queen' and 'Man': 0.5600411295890808\n",
            "Similarity between 'Queen' and 'Woman': 0.671815812587738\n",
            "Similarity between 'Queen' and 'King': 0.735045850276947\n",
            "Similarity between 'Queen' and 'Queen': 1.0000001192092896\n"
          ]
        }
      ],
      "source": [
        "# Start coding here\n",
        "\n",
        "# End coding here"
      ]
    },
    {
      "cell_type": "markdown",
      "metadata": {
        "id": "Y97bNXKSQJnz"
      },
      "source": [
        "Now we encode all the tweets. Afterward, we're left is a dataset of 384 numerical features."
      ]
    },
    {
      "cell_type": "code",
      "execution_count": 34,
      "metadata": {
        "colab": {
          "base_uri": "https://localhost:8080/"
        },
        "id": "PfZLB4deGJCE",
        "outputId": "10003e17-4f1e-4d89-df27-d2a7ec1b00ab"
      },
      "outputs": [
        {
          "name": "stdout",
          "output_type": "stream",
          "text": [
            "[-0.04609542 -0.07420447  0.03551937 -0.0079312   0.01951552  0.02424188\n",
            " -0.02874523  0.01670875  0.0281078  -0.01700428]\n",
            "(41157, 384)\n"
          ]
        }
      ],
      "source": [
        "embeddings = model.encode(tweets['clean_tweets'].values)\n",
        "print(embeddings[0,:10])\n",
        "print(embeddings.shape)"
      ]
    },
    {
      "cell_type": "markdown",
      "metadata": {
        "id": "_nKNnsnHQr0K"
      },
      "source": [
        "If we evaluate a model that is trained on the embedded data, we can see that it is less performant than the pre-processing techniques we saw earlier. This is because of the quality of the tweets. As this model is not specifically trained on the tweets, much of the data is out-of-distribution. This causes confusion to the model."
      ]
    },
    {
      "cell_type": "code",
      "execution_count": 37,
      "metadata": {
        "colab": {
          "base_uri": "https://localhost:8080/"
        },
        "id": "4gnR3U5JE4HA",
        "outputId": "7ff15548-a484-4e80-cab0-9429b01711a1"
      },
      "outputs": [
        {
          "name": "stdout",
          "output_type": "stream",
          "text": [
            "              precision    recall  f1-score   support\n",
            "\n",
            "    Negative       0.60      0.67      0.63      3062\n",
            "     Neutral       0.60      0.19      0.29      1553\n",
            "    Positive       0.60      0.71      0.65      3617\n",
            "\n",
            "    accuracy                           0.60      8232\n",
            "   macro avg       0.60      0.53      0.53      8232\n",
            "weighted avg       0.60      0.60      0.58      8232\n",
            "\n"
          ]
        }
      ],
      "source": [
        "test_performance(embeddings, tweets['Sentiment'])"
      ]
    },
    {
      "cell_type": "markdown",
      "metadata": {
        "id": "eCh9mYdKZYgb"
      },
      "source": [
        "## Homework\n",
        "\n",
        "InfoGuard is a company that gathers and publishes news articles from various sources. They utilize a dataset containing news articles with corresponding titles, content, and labels (Fake or Real) to develop a model for classifying the authenticity of news.\n",
        "\n",
        "This platform aims to enhance the reliability of news consumption by providing users with a tool to identify potential misinformation. The model created by InfoGuard helps categorize news articles as either genuine or potentially misleading, offering users a more informed perspective on the news they encounter.\n",
        "\n",
        "Download the dataset [here](https://www.kaggle.com/datasets/rajatkumar30/fake-news/data).\n",
        "\n",
        "In this dataset, you have information on news articles, including the title and content, with the goal of distinguishing between real and fake news. The dataset contains three key columns: \"Title,\" \"Text\" (content of the news), and \"Label,\" where each news article is labeled as either \"Fake\" or \"Real.\" Your task is to develop a machine learning model that can accurately classify news articles based on these features, helping to identify and differentiate between genuine and misleading information. This classification model can contribute to efforts in addressing the challenge of fake news by automating the process of identifying potentially deceptive news content.\n",
        "\n",
        "1. How to preprocess the text data?\n",
        "2. Which model do you pick?\n",
        "3. Which metric do you focus on?\n",
        "4. **Bonus question:** Which words are important to make a classification?"
      ]
    }
  ],
  "metadata": {
    "accelerator": "GPU",
    "colab": {
      "gpuType": "T4",
      "provenance": []
    },
    "kernelspec": {
      "display_name": "Python 3",
      "name": "python3"
    },
    "language_info": {
      "name": "python"
    }
  },
  "nbformat": 4,
  "nbformat_minor": 0
}
